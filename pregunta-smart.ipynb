{
 "cells": [
  {
   "cell_type": "markdown",
   "metadata": {},
   "source": [
    "## Taller 1. Comparte tu pregunta SMART\n",
    "\n",
    "### Contexto del problema\n",
    "\n",
    "### ¿Cómo se puede solucionar?\n",
    "\n",
    "### Indicador a impactar\n",
    "\n",
    "### ¿Por qué se puede solucionar con Ciencia de Datos?\n",
    "\n",
    "### Tipos de datos a usar para solucionar el problema\n",
    "\n",
    "### Técnica a usar (tentativa)\n",
    "\n",
    "### Pregunta SMART"
   ]
  },
  {
   "cell_type": "code",
   "execution_count": null,
   "metadata": {},
   "outputs": [],
   "source": []
  }
 ],
 "metadata": {
  "language_info": {
   "name": "python"
  }
 },
 "nbformat": 4,
 "nbformat_minor": 2
}
