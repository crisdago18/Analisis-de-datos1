{
 "cells": [
  {
   "cell_type": "markdown",
   "metadata": {},
   "source": [
    "## Taller 1. Comparte tu pregunta SMART\n",
    "\n",
    "### Contexto del problema. \n",
    "La deserción estudiantil es un problema crítico en el sector educativo, afectando tanto a instituciones educativas como a los propios estudiantes. Los altos **índices de deserción** tienen consecuencias negativas significativas a corto, mediano y largo plazo, incluyendo la pérdida de talento potencial, disminución de la reputación institucional, y un *impacto financiero negativo en el flujo de caja* tanto para las instituciones como para los estudiantes y sus familias. En muchas universidades y colegios, **la tasa de deserción** puede superar el 30%, lo que refleja una necesidad urgente de abordar esta problemática de manera efectiva\n",
    "\n",
    "Las causas de la deserción son multifactoriales abarcando aspectos académicos, personales, sociales, económicos, y comportamentales, por lo tanto, la identificación temprana de estudiantes en riesgo de deserción es fundamental para activar estrategias que permitan su permanencia y finalización exitosa de su proceso de formación\n",
    "\n",
    "### ¿Cómo se puede solucionar? \n",
    "Este caso es posible trabajarlo entrenando un modelo analítico de aprendizaje supervisado que permita la clasificación de aquellos estudiantes que tienen alto riesgo de desertar del sistema, este modelo de clasificación (Regresión Logística, K-Nearest Neighbors -Knn, Árbol de decisión, SVM, Naive Bayes) será entrenado con datos que caractericen diferentes aspectos de estudiantes que han pasado por el sistema educativo, lo que permitirá identificar patrones y factores de riesgo asociados a la deserción, por lo tanto, para impactar el indicador (**la tasa de deserción**) es necesario:\n",
    "\n",
    "1. Contar con la voluntad y autorización de las partes involucradas (Instituciones académicas, entes gubernamentales, nucleo familiar, estudiantes) \n",
    "2. Acceso a las bases de datos o\n",
    "3. Levantamiento de información \n",
    "4. Extracción y limpieza de datos\n",
    "5. Exploración y Análisis de los datos\n",
    "6. Selección de features - Transformación (encoding, normalización, estandarización)\n",
    "7. Entrenamiento de modelos de clasificación\n",
    "8. Evaluación del rendimiento de los modelos\n",
    "9. Despliegue en local\n",
    "10. Generación de alertas tempranas de nuevos registros direccionando a tomadores de decisión\n",
    "\n",
    "### Indicador a impactar\n",
    "(**Indice de deserción estudiantil**) Reducción del 30% en la tasa de deserción estudiantil para el próximo periodo académico en las Instituciones Educativas del Departamento\n",
    "\n",
    "### ¿Por qué se puede solucionar con Ciencia de Datos?\n",
    "Porque este problema está influenciado por una combinación de los factores descritos en el contexto, y la ciencia de datos permite analizar grandes volúmenes de datos de diversas fuentes lo que permite analizar patrones y correlaciones complejas que no son tan evidentes, por otro lado, los modelos predictivos permiten anticipar aquellos estudiantes que tienen alto riesgo de abandonar sus estudios lo que le facilitaría a las instuticiones activar estrategias antes de que este fenomeno se presente.\n",
    "\n",
    "### Tipos de datos a usar para solucionar el problema\n",
    "Se podrán usar datos de diferentes tipos, desde los datos almacenados de manera estructurada como los cualitativos (nominales, categoricos y binarios), hasta los cuantitativos (discretos y continuos), además, podrán usarse datos no estructurados como estructuras de texto, videos e imagenes que sean compartidos por diferentes medios\n",
    "\n",
    "A continuación se presentan algunos de los datos que podrían usarse:\n",
    "\n",
    "1. Datos demográficos-personales-económicos (nombres, apellidos, tipo de id, No de id, correo electrónico, edad/fecha de nacimiento, género, estado civil, No de hijos, ocupación, cant de personas a cargo, país-ciudad-comuna de residencia, zona de residencia, étnia, grupo vulnerable, sistema de salud, nivel de sisben, participación de algun programa social, cant de integrantes del núcleo familiar, parentezco de custodio/responsable, estrato socieconómico, tipo de residencia, ingresos promedios familiares, nivel educativo de los padres, nivel educativo del custodio/responsable, ocupación de los padres, ocupación del custodio/responsable, estado civil de los padres, estado civil del custodio/responsable, cant de herman@s, nivel educativo de los herman@s, Distribución de los gastos familiares, prom mensual de ingresos personales, prom mensual de gastos personales, religión, No de computadores en casa, acceso a internet, acceso a cable, acceso a smartphone, gama del smartphone, idiomas hablados, idiomas hablados por el custodio/responsable, medio de transporte usado, tipo de medio de transporte, entre otros)\n",
    "\n",
    "2. Datos sociales (cant de amigos, prom de encuentros sociales al mes, hobbies, practica de deporte, frecuencia de practica de deporte, redes sociales usadas, prom de minutos diarios en redes sociales por tipo, cant de publicaciones diarias en redes por tipo, entre otros)\n",
    "\n",
    "3. Datos de aspectos académicos (nivel de estudio actual, prom de rendimiento académico por nivel de estudio, prom de calificaciones por área, calificaciones individuales por asignatura, tasa de asistencia, participación en actividades extracurriculares, asistencia a asesorías estudiantiles, reporte cualitativo docente, uso de servicios de apoyo academico, historial de satisfacción con el programa/por curso, participación en órganos colegiados, evaluación de actividades extracurriculares, frecuencia de acceso a recursos educativos, indicadores de intercambios, frecuencia de participación en clase, participacion en conferencias/seminarios/otros, comentarios y autoevaluación del estudiante, prom semanal de horas dedicadas a estudio, resultado global y por competencias en pruebas de estado, No y tipo de instituciones educativas en las que ha estudiado, prom de estudiantes por curso en los que ha estudiado, horario de preferencia para estudiar, entre otros)\n",
    "\n",
    "### Técnica a usar (tentativa)\n",
    "Modelo de aprendizaje supervisado de clasificación ((Regresión Logística, K-Nearest Neighbors -Knn, Árbol de decisión, SVM, Naive Bayes))\n",
    "\n",
    "### Pregunta SMART\n",
    "¿Cómo puede reducirse el indice de desercíon estudiantil en un 30% para el próximo periodo académico en las instuciones educativas del departamento usando datos demográficos, personales, sociales, comportamentales y académicos?"
   ]
  },
  {
   "cell_type": "code",
   "execution_count": null,
   "metadata": {},
   "outputs": [],
   "source": []
  }
 ],
 "metadata": {
  "language_info": {
   "name": "python"
  }
 },
 "nbformat": 4,
 "nbformat_minor": 2
}
